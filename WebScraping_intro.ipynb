{
 "cells": [
  {
   "cell_type": "markdown",
   "id": "e7702d61",
   "metadata": {},
   "source": [
    "###### The main objective of this is to get familiar with the basics of the BeautifulSoup Python Library"
   ]
  },
  {
   "cell_type": "code",
   "execution_count": 2,
   "id": "df2c77d1",
   "metadata": {},
   "outputs": [
    {
     "name": "stdout",
     "output_type": "stream",
     "text": [
      "Collecting html5lib\n",
      "  Downloading html5lib-1.1-py2.py3-none-any.whl (112 kB)\n",
      "     ------------------------------------ 112.2/112.2 kB 465.4 kB/s eta 0:00:00\n",
      "Requirement already satisfied: six>=1.9 in d:\\anaconda\\lib\\site-packages (from html5lib) (1.16.0)\n",
      "Requirement already satisfied: webencodings in d:\\anaconda\\lib\\site-packages (from html5lib) (0.5.1)\n",
      "Installing collected packages: html5lib\n",
      "Successfully installed html5lib-1.1\n"
     ]
    }
   ],
   "source": [
    "!pip install html5lib"
   ]
  },
  {
   "cell_type": "code",
   "execution_count": 2,
   "id": "915ea200",
   "metadata": {},
   "outputs": [
    {
     "name": "stdout",
     "output_type": "stream",
     "text": [
      "Requirement already satisfied: bs4 in d:\\anaconda\\lib\\site-packages (0.0.1)\n",
      "Requirement already satisfied: beautifulsoup4 in d:\\anaconda\\lib\\site-packages (from bs4) (4.11.1)\n",
      "Requirement already satisfied: soupsieve>1.2 in d:\\anaconda\\lib\\site-packages (from beautifulsoup4->bs4) (2.3.1)\n"
     ]
    }
   ],
   "source": [
    "!pip install bs4"
   ]
  },
  {
   "cell_type": "code",
   "execution_count": 3,
   "id": "af5ccb9c",
   "metadata": {},
   "outputs": [],
   "source": [
    "#importing the re required modules\n",
    "from bs4 import BeautifulSoup #helps us in webscrapping\n",
    "import requests #helps to download a webpage"
   ]
  },
  {
   "cell_type": "code",
   "execution_count": 5,
   "id": "eefedbd2",
   "metadata": {},
   "outputs": [],
   "source": [
    "#we can store it as a string int the variable html\n",
    "html=\"<!DOCTYPE html><html><head><title>Page Title</title></head><body><h3><b id='boldest'>Lebron James</b></h3><p> Salary: $ 92,000,000 </p><h3> Stephen Curry</h3><p> Salary: $85,000, 000 </p><h3> Kevin Durant </h3><p> Salary: $73,200, 000</p></body></html>\"\n"
   ]
  },
  {
   "cell_type": "code",
   "execution_count": 6,
   "id": "b1cc1fee",
   "metadata": {},
   "outputs": [],
   "source": [
    "#passing it onto the BeautifulSoup constructor parses the document\n",
    "#the BeautifulSoup object represents the document as a nested data structure\n",
    "soup=BeautifulSoup(html,'html5lib')"
   ]
  },
  {
   "cell_type": "code",
   "execution_count": 7,
   "id": "e22ab7bb",
   "metadata": {},
   "outputs": [
    {
     "name": "stdout",
     "output_type": "stream",
     "text": [
      "<!DOCTYPE html>\n",
      "<html>\n",
      " <head>\n",
      "  <title>\n",
      "   Page Title\n",
      "  </title>\n",
      " </head>\n",
      " <body>\n",
      "  <h3>\n",
      "   <b id=\"boldest\">\n",
      "    Lebron James\n",
      "   </b>\n",
      "  </h3>\n",
      "  <p>\n",
      "   Salary: $ 92,000,000\n",
      "  </p>\n",
      "  <h3>\n",
      "   Stephen Curry\n",
      "  </h3>\n",
      "  <p>\n",
      "   Salary: $85,000, 000\n",
      "  </p>\n",
      "  <h3>\n",
      "   Kevin Durant\n",
      "  </h3>\n",
      "  <p>\n",
      "   Salary: $73,200, 000\n",
      "  </p>\n",
      " </body>\n",
      "</html>\n"
     ]
    }
   ],
   "source": [
    "#using the method prettify() to display the HTML in nested structure\n",
    "print(soup.prettify())"
   ]
  },
  {
   "cell_type": "code",
   "execution_count": 8,
   "id": "c20729fc",
   "metadata": {},
   "outputs": [
    {
     "name": "stdout",
     "output_type": "stream",
     "text": [
      "<title>Page Title</title>\n"
     ]
    }
   ],
   "source": [
    "#we can use Tag to get the title of the page and name of the top paid player\n",
    "tag_obj=soup.title\n",
    "print(tag_obj)"
   ]
  },
  {
   "cell_type": "code",
   "execution_count": 9,
   "id": "9f9f3c48",
   "metadata": {},
   "outputs": [
    {
     "name": "stdout",
     "output_type": "stream",
     "text": [
      "<class 'bs4.element.Tag'>\n"
     ]
    }
   ],
   "source": [
    "#we can see the tag type using type\n",
    "print(type(tag_obj))"
   ]
  },
  {
   "cell_type": "code",
   "execution_count": 10,
   "id": "e063a369",
   "metadata": {},
   "outputs": [
    {
     "data": {
      "text/plain": [
       "<h3><b id=\"boldest\">Lebron James</b></h3>"
      ]
     },
     "execution_count": 10,
     "metadata": {},
     "output_type": "execute_result"
    }
   ],
   "source": [
    "#If there is more than one Tag with the same name\n",
    "#the first element with that Tag name is called. \n",
    "#here this corresponds to the most paid player.\n",
    "tag_obj=soup.h3\n",
    "tag_obj"
   ]
  },
  {
   "cell_type": "code",
   "execution_count": 16,
   "id": "592846b1",
   "metadata": {},
   "outputs": [
    {
     "data": {
      "text/plain": [
       "<b id=\"boldest\">Lebron James</b>"
      ]
     },
     "execution_count": 16,
     "metadata": {},
     "output_type": "execute_result"
    }
   ],
   "source": [
    "#since Tag is a tree of objects.We can access child of the tag or navigate down the branch as follow\n",
    "tag_child=tag_obj.b\n",
    "tag_child"
   ]
  },
  {
   "cell_type": "code",
   "execution_count": 17,
   "id": "327a2375",
   "metadata": {},
   "outputs": [
    {
     "data": {
      "text/plain": [
       "<h3><b id=\"boldest\">Lebron James</b></h3>"
      ]
     },
     "execution_count": 17,
     "metadata": {},
     "output_type": "execute_result"
    }
   ],
   "source": [
    "#accessing the parent tag\n",
    "tag_parent=tag_child.parent\n",
    "tag_parent"
   ]
  },
  {
   "cell_type": "code",
   "execution_count": 18,
   "id": "724fb607",
   "metadata": {},
   "outputs": [
    {
     "data": {
      "text/plain": [
       "<h3><b id=\"boldest\">Lebron James</b></h3>"
      ]
     },
     "execution_count": 18,
     "metadata": {},
     "output_type": "execute_result"
    }
   ],
   "source": [
    "tag_obj"
   ]
  },
  {
   "cell_type": "code",
   "execution_count": 19,
   "id": "67dd592a",
   "metadata": {},
   "outputs": [
    {
     "data": {
      "text/plain": [
       "<body><h3><b id=\"boldest\">Lebron James</b></h3><p> Salary: $ 92,000,000 </p><h3> Stephen Curry</h3><p> Salary: $85,000, 000 </p><h3> Kevin Durant </h3><p> Salary: $73,200, 000</p></body>"
      ]
     },
     "execution_count": 19,
     "metadata": {},
     "output_type": "execute_result"
    }
   ],
   "source": [
    "#tag_obj parent is the body element\n",
    "tag_obj.parent"
   ]
  },
  {
   "cell_type": "code",
   "execution_count": 21,
   "id": "edb95748",
   "metadata": {},
   "outputs": [
    {
     "data": {
      "text/plain": [
       "<p> Salary: $ 92,000,000 </p>"
      ]
     },
     "execution_count": 21,
     "metadata": {},
     "output_type": "execute_result"
    }
   ],
   "source": [
    "#the sibling of tag_obj is the paragraph element\n",
    "sib_1=tag_obj.next_sibling\n",
    "sib_1"
   ]
  },
  {
   "cell_type": "code",
   "execution_count": 22,
   "id": "7cfcc3c5",
   "metadata": {},
   "outputs": [
    {
     "data": {
      "text/plain": [
       "<h3> Stephen Curry</h3>"
      ]
     },
     "execution_count": 22,
     "metadata": {},
     "output_type": "execute_result"
    }
   ],
   "source": [
    "sib_2=sib_1.next_sibling\n",
    "sib_2"
   ]
  },
  {
   "cell_type": "code",
   "execution_count": 23,
   "id": "98896d68",
   "metadata": {},
   "outputs": [
    {
     "data": {
      "text/plain": [
       "'boldest'"
      ]
     },
     "execution_count": 23,
     "metadata": {},
     "output_type": "execute_result"
    }
   ],
   "source": [
    "#accessing HTml attributes\n",
    "tag_child['id']"
   ]
  },
  {
   "cell_type": "code",
   "execution_count": 24,
   "id": "96d50bfb",
   "metadata": {},
   "outputs": [
    {
     "data": {
      "text/plain": [
       "{'id': 'boldest'}"
      ]
     },
     "execution_count": 24,
     "metadata": {},
     "output_type": "execute_result"
    }
   ],
   "source": [
    "#or we can access that dictioonnary directlt using atrrs\n",
    "tag_child.attrs"
   ]
  },
  {
   "cell_type": "code",
   "execution_count": 25,
   "id": "207fd32d",
   "metadata": {},
   "outputs": [
    {
     "data": {
      "text/plain": [
       "'boldest'"
      ]
     },
     "execution_count": 25,
     "metadata": {},
     "output_type": "execute_result"
    }
   ],
   "source": [
    "#we can also obtain the content of the attribute of tag using get() method\n",
    "tag_child.get('id')"
   ]
  },
  {
   "cell_type": "markdown",
   "id": "bf6f6735",
   "metadata": {},
   "source": [
    "#### Navigable String"
   ]
  },
  {
   "cell_type": "code",
   "execution_count": 27,
   "id": "feb55e90",
   "metadata": {},
   "outputs": [
    {
     "data": {
      "text/plain": [
       "'Lebron James'"
      ]
     },
     "execution_count": 27,
     "metadata": {},
     "output_type": "execute_result"
    }
   ],
   "source": [
    "#A string corresponds to a bit of text or content within a tag. \n",
    "#Beautiful Soup uses the NavigableString class to contain this text. \n",
    "tag_string=tag_child.string\n",
    "tag_string\n",
    "#here we obtain the name of the first player"
   ]
  },
  {
   "cell_type": "code",
   "execution_count": 29,
   "id": "07ebb4d7",
   "metadata": {},
   "outputs": [
    {
     "data": {
      "text/plain": [
       "'Lebron James'"
      ]
     },
     "execution_count": 29,
     "metadata": {},
     "output_type": "execute_result"
    }
   ],
   "source": [
    "#We can convert it to string object in Python.\n",
    "unicode_string=str(tag_string)\n",
    "unicode_string\n"
   ]
  },
  {
   "cell_type": "markdown",
   "id": "6f6ab642",
   "metadata": {},
   "source": [
    "### Filter"
   ]
  },
  {
   "cell_type": "markdown",
   "id": "2b2ca747",
   "metadata": {},
   "source": [
    "Filter allows to find complex pattern.\n",
    "The simples filter is string.\n",
    "In this section we will pass a string to a different filter method and Beautiful Soup will perform a match against that exact string.\n"
   ]
  },
  {
   "cell_type": "code",
   "execution_count": 30,
   "id": "5c9aa2da",
   "metadata": {},
   "outputs": [],
   "source": [
    "#we store the html as a string in the variable table\n",
    "table=\"<table><tr><td id='flight'>Flight No</td><td>Launch site</td> <td>Payload mass</td></tr><tr> <td>1</td><td><a href='https://en.wikipedia.org/wiki/Florida'>Florida<a></td><td>300 kg</td></tr><tr><td>2</td><td><a href='https://en.wikipedia.org/wiki/Texas'>Texas</a></td><td>94 kg</td></tr><tr><td>3</td><td><a href='https://en.wikipedia.org/wiki/Florida'>Florida<a> </td><td>80 kg</td></tr></table>\""
   ]
  },
  {
   "cell_type": "code",
   "execution_count": 31,
   "id": "ae83114e",
   "metadata": {},
   "outputs": [],
   "source": [
    "table_bs=BeautifulSoup(table,'html5lib')"
   ]
  },
  {
   "cell_type": "code",
   "execution_count": 33,
   "id": "18a6ca7d",
   "metadata": {},
   "outputs": [
    {
     "data": {
      "text/plain": [
       "[<tr><td id=\"flight\">Flight No</td><td>Launch site</td> <td>Payload mass</td></tr>,\n",
       " <tr> <td>1</td><td><a href=\"https://en.wikipedia.org/wiki/Florida\">Florida</a><a></a></td><td>300 kg</td></tr>,\n",
       " <tr><td>2</td><td><a href=\"https://en.wikipedia.org/wiki/Texas\">Texas</a></td><td>94 kg</td></tr>,\n",
       " <tr><td>3</td><td><a href=\"https://en.wikipedia.org/wiki/Florida\">Florida</a><a> </a></td><td>80 kg</td></tr>]"
      ]
     },
     "execution_count": 33,
     "metadata": {},
     "output_type": "execute_result"
    }
   ],
   "source": [
    "#the find_all() method looks through a tag's descendants and retrieves all the \n",
    "#descendants that match the filter\n",
    "#When we set the name parameter to a tag name, the method will extract all the tags with that name and its children.\n",
    "table_rows=table_bs.find_all('tr')\n",
    "table_rows"
   ]
  },
  {
   "cell_type": "code",
   "execution_count": 35,
   "id": "91d21044",
   "metadata": {},
   "outputs": [
    {
     "data": {
      "text/plain": [
       "<tr><td id=\"flight\">Flight No</td><td>Launch site</td> <td>Payload mass</td></tr>"
      ]
     },
     "execution_count": 35,
     "metadata": {},
     "output_type": "execute_result"
    }
   ],
   "source": [
    "table_rows[0]#shows the first row of the Python iterable"
   ]
  },
  {
   "cell_type": "code",
   "execution_count": 36,
   "id": "0ca2e524",
   "metadata": {},
   "outputs": [
    {
     "data": {
      "text/plain": [
       "<td id=\"flight\">Flight No</td>"
      ]
     },
     "execution_count": 36,
     "metadata": {},
     "output_type": "execute_result"
    }
   ],
   "source": [
    "table_rows[0].td #obtaining the child"
   ]
  },
  {
   "cell_type": "code",
   "execution_count": 37,
   "id": "5b0ce4ac",
   "metadata": {},
   "outputs": [
    {
     "name": "stdout",
     "output_type": "stream",
     "text": [
      "row 0 is <tr><td id=\"flight\">Flight No</td><td>Launch site</td> <td>Payload mass</td></tr>\n",
      "row 1 is <tr> <td>1</td><td><a href=\"https://en.wikipedia.org/wiki/Florida\">Florida</a><a></a></td><td>300 kg</td></tr>\n",
      "row 2 is <tr><td>2</td><td><a href=\"https://en.wikipedia.org/wiki/Texas\">Texas</a></td><td>94 kg</td></tr>\n",
      "row 3 is <tr><td>3</td><td><a href=\"https://en.wikipedia.org/wiki/Florida\">Florida</a><a> </a></td><td>80 kg</td></tr>\n"
     ]
    }
   ],
   "source": [
    "#if we iterate through the list ,each elemnt corresponds to a row in the table\n",
    "for i,row in enumerate(table_rows):\n",
    "    print(\"row\",i,\"is\",row)"
   ]
  },
  {
   "cell_type": "code",
   "execution_count": 38,
   "id": "c138145a",
   "metadata": {},
   "outputs": [
    {
     "name": "stdout",
     "output_type": "stream",
     "text": [
      "row 0\n",
      "column 0 cell <td id=\"flight\">Flight No</td>\n",
      "column 1 cell <td>Launch site</td>\n",
      "column 2 cell <td>Payload mass</td>\n",
      "row 1\n",
      "column 0 cell <td>1</td>\n",
      "column 1 cell <td><a href=\"https://en.wikipedia.org/wiki/Florida\">Florida</a><a></a></td>\n",
      "column 2 cell <td>300 kg</td>\n",
      "row 2\n",
      "column 0 cell <td>2</td>\n",
      "column 1 cell <td><a href=\"https://en.wikipedia.org/wiki/Texas\">Texas</a></td>\n",
      "column 2 cell <td>94 kg</td>\n",
      "row 3\n",
      "column 0 cell <td>3</td>\n",
      "column 1 cell <td><a href=\"https://en.wikipedia.org/wiki/Florida\">Florida</a><a> </a></td>\n",
      "column 2 cell <td>80 kg</td>\n"
     ]
    }
   ],
   "source": [
    "#since row is a cell object,we can use find_all() method to the cells \n",
    "#to extract table cells used the attribute td,i.e all the children with attribute td\n",
    "for i,row in enumerate(table_rows):\n",
    "    print(\"row\",i)\n",
    "    cells=row.find_all('td')\n",
    "    for j,cell in enumerate(cells):\n",
    "        print(\"column\",j,\"cell\",cell)"
   ]
  },
  {
   "cell_type": "code",
   "execution_count": 39,
   "id": "f5792eae",
   "metadata": {},
   "outputs": [
    {
     "data": {
      "text/plain": [
       "[<tr><td id=\"flight\">Flight No</td><td>Launch site</td> <td>Payload mass</td></tr>,\n",
       " <td id=\"flight\">Flight No</td>,\n",
       " <td>Launch site</td>,\n",
       " <td>Payload mass</td>,\n",
       " <tr> <td>1</td><td><a href=\"https://en.wikipedia.org/wiki/Florida\">Florida</a><a></a></td><td>300 kg</td></tr>,\n",
       " <td>1</td>,\n",
       " <td><a href=\"https://en.wikipedia.org/wiki/Florida\">Florida</a><a></a></td>,\n",
       " <td>300 kg</td>,\n",
       " <tr><td>2</td><td><a href=\"https://en.wikipedia.org/wiki/Texas\">Texas</a></td><td>94 kg</td></tr>,\n",
       " <td>2</td>,\n",
       " <td><a href=\"https://en.wikipedia.org/wiki/Texas\">Texas</a></td>,\n",
       " <td>94 kg</td>,\n",
       " <tr><td>3</td><td><a href=\"https://en.wikipedia.org/wiki/Florida\">Florida</a><a> </a></td><td>80 kg</td></tr>,\n",
       " <td>3</td>,\n",
       " <td><a href=\"https://en.wikipedia.org/wiki/Florida\">Florida</a><a> </a></td>,\n",
       " <td>80 kg</td>]"
      ]
     },
     "execution_count": 39,
     "metadata": {},
     "output_type": "execute_result"
    }
   ],
   "source": [
    "#using a list  we can match against any item in that list\n",
    "list=table_bs.find_all(name=[\"tr\",\"td\"])\n",
    "list"
   ]
  },
  {
   "cell_type": "code",
   "execution_count": 40,
   "id": "17861ca8",
   "metadata": {},
   "outputs": [
    {
     "data": {
      "text/plain": [
       "[<a href=\"https://en.wikipedia.org/wiki/Florida\">Florida</a>,\n",
       " <a href=\"https://en.wikipedia.org/wiki/Florida\">Florida</a>]"
      ]
     },
     "execution_count": 40,
     "metadata": {},
     "output_type": "execute_result"
    }
   ],
   "source": [
    "#finds all the elements that has link to the Florida wiki page\n",
    "list=table_bs.find_all(href=\"https://en.wikipedia.org/wiki/Florida\")\n",
    "list"
   ]
  },
  {
   "cell_type": "code",
   "execution_count": 43,
   "id": "f894de7c",
   "metadata": {},
   "outputs": [
    {
     "data": {
      "text/plain": [
       "[<a href=\"https://en.wikipedia.org/wiki/Florida\">Florida</a>,\n",
       " <a href=\"https://en.wikipedia.org/wiki/Texas\">Texas</a>,\n",
       " <a href=\"https://en.wikipedia.org/wiki/Florida\">Florida</a>]"
      ]
     },
     "execution_count": 43,
     "metadata": {},
     "output_type": "execute_result"
    }
   ],
   "source": [
    "#if we set the href value to True code finds all the tags with href values\n",
    "table_bs.find_all(href=True)\n",
    "#set the href value to False to find all the elements withouut href values"
   ]
  },
  {
   "cell_type": "code",
   "execution_count": 47,
   "id": "8b75c3eb",
   "metadata": {},
   "outputs": [
    {
     "data": {
      "text/plain": [
       "['Florida', 'Florida']"
      ]
     },
     "execution_count": 47,
     "metadata": {},
     "output_type": "execute_result"
    }
   ],
   "source": [
    "#using string we can search for strings instead of tags\n",
    "table_bs.find_all(string=\"Florida\")"
   ]
  },
  {
   "cell_type": "code",
   "execution_count": 48,
   "id": "edc81ac4",
   "metadata": {},
   "outputs": [],
   "source": [
    "#find_all() mmethod scans the entire docuent for results.\n",
    "#find() mmethod finds the first elemment in the document\n",
    "two_tables=\"<h3>Rocket Launch </h3><p><table class='rocket'><tr><td>Flight No</td><td>Launch site</td> <td>Payload mass</td></tr><tr><td>1</td><td>Florida</td><td>300 kg</td></tr><tr><td>2</td><td>Texas</td><td>94 kg</td></tr><tr><td>3</td><td>Florida </td><td>80 kg</td></tr></table></p><p><h3>Pizza Party  </h3><table class='pizza'><tr><td>Pizza Place</td><td>Orders</td> <td>Slices </td></tr><tr><td>Domino's Pizza</td><td>10</td><td>100</td></tr><tr><td>Little Caesars</td><td>12</td><td >144 </td></tr><tr><td>Papa John's </td><td>15 </td><td>165</td></tr>\""
   ]
  },
  {
   "cell_type": "code",
   "execution_count": 49,
   "id": "e29047ba",
   "metadata": {},
   "outputs": [],
   "source": [
    "two_tables_bs= BeautifulSoup(two_tables, 'html.parser')#creates beautifulsoup obj"
   ]
  },
  {
   "cell_type": "code",
   "execution_count": 50,
   "id": "2e0e51d5",
   "metadata": {},
   "outputs": [
    {
     "data": {
      "text/plain": [
       "<table class=\"rocket\"><tr><td>Flight No</td><td>Launch site</td> <td>Payload mass</td></tr><tr><td>1</td><td>Florida</td><td>300 kg</td></tr><tr><td>2</td><td>Texas</td><td>94 kg</td></tr><tr><td>3</td><td>Florida </td><td>80 kg</td></tr></table>"
      ]
     },
     "execution_count": 50,
     "metadata": {},
     "output_type": "execute_result"
    }
   ],
   "source": [
    "#finding the first table\n",
    "two_tables_bs.find('table')"
   ]
  },
  {
   "cell_type": "markdown",
   "id": "daff6e87",
   "metadata": {},
   "source": [
    "##### Downloading and Scraping The Cotents of a WebPage\n"
   ]
  },
  {
   "cell_type": "code",
   "execution_count": 51,
   "id": "767c6512",
   "metadata": {},
   "outputs": [],
   "source": [
    "url=\"http://www.ibm.com\""
   ]
  },
  {
   "cell_type": "code",
   "execution_count": 54,
   "id": "aa9013d1",
   "metadata": {},
   "outputs": [],
   "source": [
    "#we can use get to download the contents opf the webpage\n",
    "data=requests.get(url).text"
   ]
  },
  {
   "cell_type": "code",
   "execution_count": 55,
   "id": "dfb1f60b",
   "metadata": {},
   "outputs": [],
   "source": [
    "#creating a BeautifulSoup object using a  BeautifulSoup constructor\n",
    "soup=BeautifulSoup(data,\"html5lib\")"
   ]
  },
  {
   "cell_type": "code",
   "execution_count": 57,
   "id": "3f487e92",
   "metadata": {},
   "outputs": [
    {
     "name": "stdout",
     "output_type": "stream",
     "text": [
      "https://www.ibm.com/resources/the-data-differentiator/scale-ai?lnk=hpenls1\n",
      "https://www.ibm.com/watsonx?lnk=hpenls2\n",
      "https://www.ibm.com/flashsystem/resources/offers?lnk=hpenca1\n",
      "//mediacenter.ibm.com/id/1_t4tolges\n",
      "//mediacenter.ibm.com/id/1_t4tolges\n",
      "//mediacenter.ibm.com/id/1_t4tolges\n",
      "https://www.ibm.com/in-en/data-fabric?lnk=hpencm1\n",
      "//mediacenter.ibm.com/id/1_ohfv4i6v\n",
      "//mediacenter.ibm.com/id/1_ohfv4i6v\n",
      "//mediacenter.ibm.com/id/1_ohfv4i6v\n",
      "https://www.ibm.com/in-en/sustainability?lnk=hpencm2\n",
      "//mediacenter.ibm.com/id/1_4f1czavh\n",
      "//mediacenter.ibm.com/id/1_4f1czavh\n",
      "//mediacenter.ibm.com/id/1_4f1czavh\n",
      "https://www.ibm.com/consulting/?lnk=hpencm3\n",
      "#tab_3171780\n",
      "#tab_3171784\n",
      "#tab_3171788\n",
      "#tab_3171792\n",
      "#tab_3171796\n",
      "#tab_3171800\n",
      "https://www.ibm.com/consulting/?lnk=hpenco1\n",
      "https://www.ibm.com/consulting/strategy/?lnk=hpenco2\n",
      "https://www.ibm.com/consulting/ibmix?lnk=flathl\n",
      "https://www.ibm.com/consulting/technology/?lnk=hpenco4\n",
      "https://www.ibm.com/services/operations-consulting?lnk=flathl\n",
      "/strategic-partnerships?lnk=hpenco6\n",
      "https://www.ibm.com/case-studies/cio-office-turbonomic?lnk=hpencs1\n",
      "https://www.ibm.com/careers/in-en/?lnk=flatitem\n",
      "https://www.ibm.com/careers/in-en/?lnk=flatitem\n",
      "https://research.ibm.com/\n",
      "https://research.ibm.com/\n",
      "https://www.ibm.com/in-en/impact/responsibility\n",
      "https://www.ibm.com/in-en/impact/responsibility\n",
      "https://www.ibm.com/threat-detection-response?lnk=hpenf2\n",
      "/in-en/about\n",
      "https://www.ibm.com/subscribe?hpenab1=\n",
      "#\n"
     ]
    }
   ],
   "source": [
    "#scrap all links\n",
    "for link in soup.find_all('a',href=True):#in html anchor/link is represented ny a\n",
    "   print(link.get('href'))"
   ]
  },
  {
   "cell_type": "code",
   "execution_count": 60,
   "id": "432ec807",
   "metadata": {},
   "outputs": [
    {
     "name": "stdout",
     "output_type": "stream",
     "text": [
      "<img alt=\"Financial worker at desk with six computer screens\" class=\"\" loading=\"lazy\" src=\"//1.cms.s81c.com/sites/default/files/2023-04-05/CS_The_Modernize_Banking_Question_V1_30_mobile-frame-04-30_drupal.jpg\"/>\n",
      "//1.cms.s81c.com/sites/default/files/2023-04-05/CS_The_Modernize_Banking_Question_V1_30_mobile-frame-04-30_drupal.jpg\n",
      "<img alt=\"view of the sky between skyscrapers\" class=\"\" loading=\"lazy\" src=\"//1.cms.s81c.com/sites/default/files/2023-04-05/CS_The_Sustainability_Building_Question_30_mobile-07-00_drupal.jpg\"/>\n",
      "//1.cms.s81c.com/sites/default/files/2023-04-05/CS_The_Sustainability_Building_Question_30_mobile-07-00_drupal.jpg\n",
      "<img alt=\"Close-up of golf ball on a green course\" class=\"\" loading=\"lazy\" src=\"//1.cms.s81c.com/sites/default/files/2023-04-05/CS_the_transform_masters_question_30_mobile_frame00_drupal_0.jpg\"/>\n",
      "//1.cms.s81c.com/sites/default/files/2023-04-05/CS_the_transform_masters_question_30_mobile_frame00_drupal_0.jpg\n",
      "<img alt=\"business meeting\" class=\"\" loading=\"lazy\" src=\"//1.cms.s81c.com/sites/default/files/2023-05-07/pi-1906698.xl_.jpg\"/>\n",
      "//1.cms.s81c.com/sites/default/files/2023-05-07/pi-1906698.xl_.jpg\n",
      "<img alt=\"Team members at work\" class=\"\" loading=\"lazy\" src=\"//1.cms.s81c.com/sites/default/files/2023-05-07/ebsf02532.xl_.jpg\"/>\n",
      "//1.cms.s81c.com/sites/default/files/2023-05-07/ebsf02532.xl_.jpg\n",
      "<img alt=\"Woman working on laptop\" class=\"\" loading=\"lazy\" src=\"//1.cms.s81c.com/sites/default/files/2023-05-07/_l7a6081.xl_.jpg\"/>\n",
      "//1.cms.s81c.com/sites/default/files/2023-05-07/_l7a6081.xl_.jpg\n",
      "<img alt=\"Cloud developer with red sweater coding at desk\" class=\"\" loading=\"lazy\" src=\"//1.cms.s81c.com/sites/default/files/2022-11-16/XLG%20-%20IBM%20Consulting%20-%20Technology.jpg\"/>\n",
      "//1.cms.s81c.com/sites/default/files/2022-11-16/XLG%20-%20IBM%20Consulting%20-%20Technology.jpg\n",
      "<img alt=\"Aerial view of automated conveyer belt and machinery at work\" class=\"\" loading=\"lazy\" src=\"//1.cms.s81c.com/sites/default/files/2022-11-16/XLG%20-%20IBM%20Consulting%20-%20Operations.jpg\"/>\n",
      "//1.cms.s81c.com/sites/default/files/2022-11-16/XLG%20-%20IBM%20Consulting%20-%20Operations.jpg\n",
      "<img alt=\"Overhead view of partners collaborating on design with laptops and coffee\" class=\"\" loading=\"lazy\" src=\"//1.cms.s81c.com/sites/default/files/2022-11-16/XLG%20-%20IBM%20Consulting%20-%20Partners.jpg\"/>\n",
      "//1.cms.s81c.com/sites/default/files/2022-11-16/XLG%20-%20IBM%20Consulting%20-%20Partners.jpg\n",
      "<img alt=\"IBM employee on campus\" class=\"\" loading=\"lazy\" src=\"//1.cms.s81c.com/sites/default/files/2022-11-16/XLG%20-%20Inside%20IBM%20-%20IBM%20Careers.jpg\"/>\n",
      "//1.cms.s81c.com/sites/default/files/2022-11-16/XLG%20-%20Inside%20IBM%20-%20IBM%20Careers.jpg\n",
      "<img alt=\"Gloved hand rinsing tool in sink after research experiment\" class=\"\" loading=\"lazy\" src=\"//1.cms.s81c.com/sites/default/files/2022-11-16/XLG%20-%20Inside%20IBM%20-%20Research%20Labs.jpg\"/>\n",
      "//1.cms.s81c.com/sites/default/files/2022-11-16/XLG%20-%20Inside%20IBM%20-%20Research%20Labs.jpg\n",
      "<img alt=\"Hazy city skyline with skyscrapers \" class=\"\" loading=\"lazy\" src=\"//1.cms.s81c.com/sites/default/files/2022-11-16/XLG%20-%20Inside%20IBM%20-%20Corporate%20Social%20Responsibility.jpg\"/>\n",
      "//1.cms.s81c.com/sites/default/files/2022-11-16/XLG%20-%20Inside%20IBM%20-%20Corporate%20Social%20Responsibility.jpg\n"
     ]
    }
   ],
   "source": [
    "#scrap all immage tags\n",
    "for link in soup.find_all('img'):\n",
    "    print (link)\n",
    "    print(link.get('src'))\n",
    "    "
   ]
  },
  {
   "cell_type": "code",
   "execution_count": 61,
   "id": "73f36644",
   "metadata": {},
   "outputs": [],
   "source": [
    "#scrape data from htmml tables\n",
    "#The below url contains an html table with data about colors and color codes.\n",
    "url = \"https://cf-courses-data.s3.us.cloud-object-storage.appdomain.cloud/IBM-DA0321EN-SkillsNetwork/labs/datasets/HTMLColorCodes.html\""
   ]
  },
  {
   "cell_type": "code",
   "execution_count": 62,
   "id": "a3ff52c8",
   "metadata": {},
   "outputs": [],
   "source": [
    "#get the contents of webpage and store it in text format\n",
    "data=requests.get(url).text"
   ]
  },
  {
   "cell_type": "code",
   "execution_count": 63,
   "id": "9c6c471c",
   "metadata": {},
   "outputs": [],
   "source": [
    "soup=BeautifulSoup(data,'html5lib')"
   ]
  },
  {
   "cell_type": "code",
   "execution_count": 64,
   "id": "fd1b5fc9",
   "metadata": {},
   "outputs": [],
   "source": [
    "#finding a html table in the webpage\n",
    "table=soup.find('table')"
   ]
  },
  {
   "cell_type": "code",
   "execution_count": 66,
   "id": "1373d9c3",
   "metadata": {},
   "outputs": [
    {
     "name": "stdout",
     "output_type": "stream",
     "text": [
      "Color Name--->None\n",
      "lightsalmon--->#FFA07A\n",
      "salmon--->#FA8072\n",
      "darksalmon--->#E9967A\n",
      "lightcoral--->#F08080\n",
      "coral--->#FF7F50\n",
      "tomato--->#FF6347\n",
      "orangered--->#FF4500\n",
      "gold--->#FFD700\n",
      "orange--->#FFA500\n",
      "darkorange--->#FF8C00\n",
      "lightyellow--->#FFFFE0\n",
      "lemonchiffon--->#FFFACD\n",
      "papayawhip--->#FFEFD5\n",
      "moccasin--->#FFE4B5\n",
      "peachpuff--->#FFDAB9\n",
      "palegoldenrod--->#EEE8AA\n",
      "khaki--->#F0E68C\n",
      "darkkhaki--->#BDB76B\n",
      "yellow--->#FFFF00\n",
      "lawngreen--->#7CFC00\n",
      "chartreuse--->#7FFF00\n",
      "limegreen--->#32CD32\n",
      "lime--->#00FF00\n",
      "forestgreen--->#228B22\n",
      "green--->#008000\n",
      "powderblue--->#B0E0E6\n",
      "lightblue--->#ADD8E6\n",
      "lightskyblue--->#87CEFA\n",
      "skyblue--->#87CEEB\n",
      "deepskyblue--->#00BFFF\n",
      "lightsteelblue--->#B0C4DE\n",
      "dodgerblue--->#1E90FF\n"
     ]
    }
   ],
   "source": [
    "#gets the rows of the table\n",
    "for row in table.find_all('tr'):#tr is the html tag for table row\n",
    "    #get all the columms in each row\n",
    "    cols=row.find_all('td')#td is the html tag for table column\n",
    "    color_name=cols[2].string#stores the value of column 3 as color_name\n",
    "    color_code=cols[3].string#stores the value of column 4 as color_code\n",
    "    print(\"{}--->{}\".format(color_name,color_code))"
   ]
  }
 ],
 "metadata": {
  "kernelspec": {
   "display_name": "Python 3 (ipykernel)",
   "language": "python",
   "name": "python3"
  },
  "language_info": {
   "codemirror_mode": {
    "name": "ipython",
    "version": 3
   },
   "file_extension": ".py",
   "mimetype": "text/x-python",
   "name": "python",
   "nbconvert_exporter": "python",
   "pygments_lexer": "ipython3",
   "version": "3.9.13"
  }
 },
 "nbformat": 4,
 "nbformat_minor": 5
}
