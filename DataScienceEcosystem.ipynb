{
 "cells": [
  {
   "cell_type": "markdown",
   "id": "95048a30",
   "metadata": {},
   "source": [
    "# Data Science Tools and Ecosystems"
   ]
  },
  {
   "cell_type": "markdown",
   "id": "798296a2",
   "metadata": {},
   "source": [
    "In this Notebook,Data Science Tools and Ecosystems are summarized."
   ]
  },
  {
   "cell_type": "markdown",
   "id": "6d9fa12d",
   "metadata": {},
   "source": [
    "***Objectives***\n",
    "- List Of Data Science Languages\n",
    "- List Of Data Science Libraries\n",
    "- Basic Arithmetic Evaluation"
   ]
  },
  {
   "cell_type": "markdown",
   "id": "05822649",
   "metadata": {},
   "source": [
    "Some of the popular languages that Data Scientists use are:\n",
    "1. Python\n",
    "2. R\n",
    "3. SQL\n",
    "4. Julia\n",
    "5. Scala"
   ]
  },
  {
   "cell_type": "markdown",
   "id": "b4b7cf9b",
   "metadata": {},
   "source": [
    "Some of the commonly used libraries by Data Scientists include:\n",
    "1. Pandas\n",
    "2. Numpy\n",
    "3. Scikit-learn\n",
    "4. Keras\n",
    "5. Matplotlib"
   ]
  },
  {
   "cell_type": "markdown",
   "id": "6732e7a2",
   "metadata": {},
   "source": [
    "| Data Science Tools |\n",
    "| ------------------ |\n",
    "| Jupyter Notebook   |\n",
    "|  R Studio          |\n",
    "|  Spyder            |"
   ]
  },
  {
   "cell_type": "markdown",
   "id": "2e159fde",
   "metadata": {},
   "source": [
    "### Below are a few examples of evaluating arithmetic expression in Python\n",
    "###### Addition Example\n",
    "2+3\n",
    "###### Subtraction Example\n",
    "5-3"
   ]
  },
  {
   "cell_type": "code",
   "execution_count": 5,
   "id": "ebf21b10",
   "metadata": {},
   "outputs": [
    {
     "data": {
      "text/plain": [
       "17"
      ]
     },
     "execution_count": 5,
     "metadata": {},
     "output_type": "execute_result"
    }
   ],
   "source": [
    "#This is a simple arithmetic expression to multiply then add integers\n",
    "(3*4)+5"
   ]
  },
  {
   "cell_type": "code",
   "execution_count": 9,
   "id": "33a6642c",
   "metadata": {},
   "outputs": [
    {
     "name": "stdout",
     "output_type": "stream",
     "text": [
      "3\n"
     ]
    }
   ],
   "source": [
    "#This will convert 200 minutes to hours by dividing by 60\n",
    "print(round(200/60))"
   ]
  },
  {
   "cell_type": "markdown",
   "id": "774ebc8f",
   "metadata": {},
   "source": [
    "## Author\n",
    "Kuntaleeka Kundu"
   ]
  }
 ],
 "metadata": {
  "kernelspec": {
   "display_name": "Python 3 (ipykernel)",
   "language": "python",
   "name": "python3"
  },
  "language_info": {
   "codemirror_mode": {
    "name": "ipython",
    "version": 3
   },
   "file_extension": ".py",
   "mimetype": "text/x-python",
   "name": "python",
   "nbconvert_exporter": "python",
   "pygments_lexer": "ipython3",
   "version": "3.9.13"
  }
 },
 "nbformat": 4,
 "nbformat_minor": 5
}
